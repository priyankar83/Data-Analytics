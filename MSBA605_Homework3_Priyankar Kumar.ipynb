{
 "cells": [
  {
   "cell_type": "markdown",
   "metadata": {},
   "source": [
    "# Homework Assignment 3\n"
   ]
  },
  {
   "cell_type": "code",
   "execution_count": 1,
   "metadata": {},
   "outputs": [],
   "source": [
    "import numpy as np\n",
    "import pandas as pd"
   ]
  },
  {
   "cell_type": "markdown",
   "metadata": {},
   "source": [
    "### Question 1\n",
    "\n",
    "The `fifa.csv` data contains a variety of information on nearly 9,000 soccer players. Load the data and assign it to the variable `df`. Then collect summary statistics from all columns using the `.describe()` method."
   ]
  },
  {
   "cell_type": "code",
   "execution_count": 2,
   "metadata": {},
   "outputs": [
    {
     "data": {
      "text/html": [
       "<div>\n",
       "<style scoped>\n",
       "    .dataframe tbody tr th:only-of-type {\n",
       "        vertical-align: middle;\n",
       "    }\n",
       "\n",
       "    .dataframe tbody tr th {\n",
       "        vertical-align: top;\n",
       "    }\n",
       "\n",
       "    .dataframe thead th {\n",
       "        text-align: right;\n",
       "    }\n",
       "</style>\n",
       "<table border=\"1\" class=\"dataframe\">\n",
       "  <thead>\n",
       "    <tr style=\"text-align: right;\">\n",
       "      <th></th>\n",
       "      <th>id</th>\n",
       "      <th>rating</th>\n",
       "      <th>height</th>\n",
       "      <th>rare</th>\n",
       "      <th>pace</th>\n",
       "      <th>shooting</th>\n",
       "      <th>passing</th>\n",
       "      <th>dribbling</th>\n",
       "      <th>defending</th>\n",
       "      <th>heading</th>\n",
       "      <th>diving</th>\n",
       "      <th>handling</th>\n",
       "      <th>kicking</th>\n",
       "      <th>reflexes</th>\n",
       "      <th>speed</th>\n",
       "      <th>positioning</th>\n",
       "    </tr>\n",
       "  </thead>\n",
       "  <tbody>\n",
       "    <tr>\n",
       "      <th>count</th>\n",
       "      <td>8847.000000</td>\n",
       "      <td>8847.000000</td>\n",
       "      <td>8847.000000</td>\n",
       "      <td>8847.000000</td>\n",
       "      <td>7917.000000</td>\n",
       "      <td>7917.000000</td>\n",
       "      <td>7917.000000</td>\n",
       "      <td>7917.000000</td>\n",
       "      <td>7917.000000</td>\n",
       "      <td>7917.000000</td>\n",
       "      <td>930.000000</td>\n",
       "      <td>930.000000</td>\n",
       "      <td>930.000000</td>\n",
       "      <td>930.000000</td>\n",
       "      <td>930.000000</td>\n",
       "      <td>930.000000</td>\n",
       "    </tr>\n",
       "    <tr>\n",
       "      <th>mean</th>\n",
       "      <td>152337.538035</td>\n",
       "      <td>66.680457</td>\n",
       "      <td>181.750424</td>\n",
       "      <td>0.353114</td>\n",
       "      <td>67.934066</td>\n",
       "      <td>55.054440</td>\n",
       "      <td>58.845522</td>\n",
       "      <td>61.193887</td>\n",
       "      <td>60.339523</td>\n",
       "      <td>63.743337</td>\n",
       "      <td>67.351613</td>\n",
       "      <td>64.739785</td>\n",
       "      <td>63.067742</td>\n",
       "      <td>68.865591</td>\n",
       "      <td>48.212903</td>\n",
       "      <td>64.955914</td>\n",
       "    </tr>\n",
       "    <tr>\n",
       "      <th>std</th>\n",
       "      <td>54506.606056</td>\n",
       "      <td>7.146679</td>\n",
       "      <td>6.454356</td>\n",
       "      <td>0.477965</td>\n",
       "      <td>11.169316</td>\n",
       "      <td>13.136116</td>\n",
       "      <td>10.962049</td>\n",
       "      <td>12.255261</td>\n",
       "      <td>10.622997</td>\n",
       "      <td>8.982680</td>\n",
       "      <td>8.311224</td>\n",
       "      <td>8.073867</td>\n",
       "      <td>8.653150</td>\n",
       "      <td>8.546599</td>\n",
       "      <td>10.330171</td>\n",
       "      <td>8.854231</td>\n",
       "    </tr>\n",
       "    <tr>\n",
       "      <th>min</th>\n",
       "      <td>2.000000</td>\n",
       "      <td>40.000000</td>\n",
       "      <td>158.000000</td>\n",
       "      <td>0.000000</td>\n",
       "      <td>24.000000</td>\n",
       "      <td>12.000000</td>\n",
       "      <td>13.000000</td>\n",
       "      <td>19.000000</td>\n",
       "      <td>26.000000</td>\n",
       "      <td>22.000000</td>\n",
       "      <td>30.000000</td>\n",
       "      <td>39.000000</td>\n",
       "      <td>30.000000</td>\n",
       "      <td>32.000000</td>\n",
       "      <td>14.000000</td>\n",
       "      <td>37.000000</td>\n",
       "    </tr>\n",
       "    <tr>\n",
       "      <th>25%</th>\n",
       "      <td>140001.500000</td>\n",
       "      <td>62.000000</td>\n",
       "      <td>178.000000</td>\n",
       "      <td>0.000000</td>\n",
       "      <td>62.000000</td>\n",
       "      <td>47.000000</td>\n",
       "      <td>52.000000</td>\n",
       "      <td>54.000000</td>\n",
       "      <td>52.000000</td>\n",
       "      <td>58.000000</td>\n",
       "      <td>62.000000</td>\n",
       "      <td>60.000000</td>\n",
       "      <td>57.000000</td>\n",
       "      <td>63.000000</td>\n",
       "      <td>42.000000</td>\n",
       "      <td>59.000000</td>\n",
       "    </tr>\n",
       "    <tr>\n",
       "      <th>50%</th>\n",
       "      <td>171578.000000</td>\n",
       "      <td>66.000000</td>\n",
       "      <td>182.000000</td>\n",
       "      <td>0.000000</td>\n",
       "      <td>69.000000</td>\n",
       "      <td>57.000000</td>\n",
       "      <td>60.000000</td>\n",
       "      <td>63.000000</td>\n",
       "      <td>61.000000</td>\n",
       "      <td>64.000000</td>\n",
       "      <td>67.000000</td>\n",
       "      <td>65.000000</td>\n",
       "      <td>63.000000</td>\n",
       "      <td>69.000000</td>\n",
       "      <td>50.000000</td>\n",
       "      <td>65.000000</td>\n",
       "    </tr>\n",
       "    <tr>\n",
       "      <th>75%</th>\n",
       "      <td>189185.000000</td>\n",
       "      <td>72.000000</td>\n",
       "      <td>186.000000</td>\n",
       "      <td>1.000000</td>\n",
       "      <td>75.000000</td>\n",
       "      <td>65.000000</td>\n",
       "      <td>66.000000</td>\n",
       "      <td>70.000000</td>\n",
       "      <td>68.000000</td>\n",
       "      <td>70.000000</td>\n",
       "      <td>73.000000</td>\n",
       "      <td>70.000000</td>\n",
       "      <td>69.000000</td>\n",
       "      <td>74.000000</td>\n",
       "      <td>56.000000</td>\n",
       "      <td>71.000000</td>\n",
       "    </tr>\n",
       "    <tr>\n",
       "      <th>max</th>\n",
       "      <td>205583.000000</td>\n",
       "      <td>94.000000</td>\n",
       "      <td>208.000000</td>\n",
       "      <td>1.000000</td>\n",
       "      <td>96.000000</td>\n",
       "      <td>90.000000</td>\n",
       "      <td>92.000000</td>\n",
       "      <td>97.000000</td>\n",
       "      <td>89.000000</td>\n",
       "      <td>91.000000</td>\n",
       "      <td>91.000000</td>\n",
       "      <td>86.000000</td>\n",
       "      <td>94.000000</td>\n",
       "      <td>93.000000</td>\n",
       "      <td>73.000000</td>\n",
       "      <td>91.000000</td>\n",
       "    </tr>\n",
       "  </tbody>\n",
       "</table>\n",
       "</div>"
      ],
      "text/plain": [
       "                  id       rating       height         rare         pace  \\\n",
       "count    8847.000000  8847.000000  8847.000000  8847.000000  7917.000000   \n",
       "mean   152337.538035    66.680457   181.750424     0.353114    67.934066   \n",
       "std     54506.606056     7.146679     6.454356     0.477965    11.169316   \n",
       "min         2.000000    40.000000   158.000000     0.000000    24.000000   \n",
       "25%    140001.500000    62.000000   178.000000     0.000000    62.000000   \n",
       "50%    171578.000000    66.000000   182.000000     0.000000    69.000000   \n",
       "75%    189185.000000    72.000000   186.000000     1.000000    75.000000   \n",
       "max    205583.000000    94.000000   208.000000     1.000000    96.000000   \n",
       "\n",
       "          shooting      passing    dribbling    defending      heading  \\\n",
       "count  7917.000000  7917.000000  7917.000000  7917.000000  7917.000000   \n",
       "mean     55.054440    58.845522    61.193887    60.339523    63.743337   \n",
       "std      13.136116    10.962049    12.255261    10.622997     8.982680   \n",
       "min      12.000000    13.000000    19.000000    26.000000    22.000000   \n",
       "25%      47.000000    52.000000    54.000000    52.000000    58.000000   \n",
       "50%      57.000000    60.000000    63.000000    61.000000    64.000000   \n",
       "75%      65.000000    66.000000    70.000000    68.000000    70.000000   \n",
       "max      90.000000    92.000000    97.000000    89.000000    91.000000   \n",
       "\n",
       "           diving    handling     kicking    reflexes       speed  positioning  \n",
       "count  930.000000  930.000000  930.000000  930.000000  930.000000   930.000000  \n",
       "mean    67.351613   64.739785   63.067742   68.865591   48.212903    64.955914  \n",
       "std      8.311224    8.073867    8.653150    8.546599   10.330171     8.854231  \n",
       "min     30.000000   39.000000   30.000000   32.000000   14.000000    37.000000  \n",
       "25%     62.000000   60.000000   57.000000   63.000000   42.000000    59.000000  \n",
       "50%     67.000000   65.000000   63.000000   69.000000   50.000000    65.000000  \n",
       "75%     73.000000   70.000000   69.000000   74.000000   56.000000    71.000000  \n",
       "max     91.000000   86.000000   94.000000   93.000000   73.000000    91.000000  "
      ]
     },
     "execution_count": 2,
     "metadata": {},
     "output_type": "execute_result"
    }
   ],
   "source": [
    "df = pd.read_csv(\"fifa.csv\")\n",
    "df.describe()"
   ]
  },
  {
   "cell_type": "markdown",
   "metadata": {},
   "source": [
    "### Question 2\n",
    "\n",
    "Find the player (or players) in the data set with the longest `name`. Use a list comprehension to create a new list to hold the lengths of each name, sort the list, then slice the DataFrame to find all values where `name` has the same length as the largest value. (**Note:** recall that lists use zero indexing, so `[0]` will access the first element in a list and `[-1]` will access the last element in the list.)"
   ]
  },
  {
   "cell_type": "code",
   "execution_count": 109,
   "metadata": {},
   "outputs": [
    {
     "data": {
      "text/html": [
       "<div>\n",
       "<style scoped>\n",
       "    .dataframe tbody tr th:only-of-type {\n",
       "        vertical-align: middle;\n",
       "    }\n",
       "\n",
       "    .dataframe tbody tr th {\n",
       "        vertical-align: top;\n",
       "    }\n",
       "\n",
       "    .dataframe thead th {\n",
       "        text-align: right;\n",
       "    }\n",
       "</style>\n",
       "<table border=\"1\" class=\"dataframe\">\n",
       "  <thead>\n",
       "    <tr style=\"text-align: right;\">\n",
       "      <th></th>\n",
       "      <th>id</th>\n",
       "      <th>name</th>\n",
       "      <th>rating</th>\n",
       "      <th>position</th>\n",
       "      <th>height</th>\n",
       "      <th>foot</th>\n",
       "      <th>rare</th>\n",
       "      <th>pace</th>\n",
       "      <th>shooting</th>\n",
       "      <th>passing</th>\n",
       "      <th>dribbling</th>\n",
       "      <th>defending</th>\n",
       "      <th>heading</th>\n",
       "      <th>diving</th>\n",
       "      <th>handling</th>\n",
       "      <th>kicking</th>\n",
       "      <th>reflexes</th>\n",
       "      <th>speed</th>\n",
       "      <th>positioning</th>\n",
       "      <th>name_len</th>\n",
       "    </tr>\n",
       "  </thead>\n",
       "  <tbody>\n",
       "    <tr>\n",
       "      <th>4187</th>\n",
       "      <td>178386</td>\n",
       "      <td>Cesare Gianf. Rickler Del Mare</td>\n",
       "      <td>65</td>\n",
       "      <td>D</td>\n",
       "      <td>196</td>\n",
       "      <td>Right</td>\n",
       "      <td>1</td>\n",
       "      <td>53.0</td>\n",
       "      <td>33.0</td>\n",
       "      <td>43.0</td>\n",
       "      <td>35.0</td>\n",
       "      <td>71.0</td>\n",
       "      <td>69.0</td>\n",
       "      <td>NaN</td>\n",
       "      <td>NaN</td>\n",
       "      <td>NaN</td>\n",
       "      <td>NaN</td>\n",
       "      <td>NaN</td>\n",
       "      <td>NaN</td>\n",
       "      <td>30</td>\n",
       "    </tr>\n",
       "  </tbody>\n",
       "</table>\n",
       "</div>"
      ],
      "text/plain": [
       "          id                            name  rating position  height   foot  \\\n",
       "4187  178386  Cesare Gianf. Rickler Del Mare      65        D     196  Right   \n",
       "\n",
       "      rare  pace  shooting  passing  dribbling  defending  heading  diving  \\\n",
       "4187     1  53.0      33.0     43.0       35.0       71.0     69.0     NaN   \n",
       "\n",
       "      handling  kicking  reflexes  speed  positioning  name_len  \n",
       "4187       NaN      NaN       NaN    NaN          NaN        30  "
      ]
     },
     "execution_count": 109,
     "metadata": {},
     "output_type": "execute_result"
    }
   ],
   "source": [
    "name_len = [len(x) for x in df[\"name\"]]\n",
    "name_len.sort()\n",
    "df.loc[df[\"name\"].str.len() == name_len[-1]]"
   ]
  },
  {
   "cell_type": "markdown",
   "metadata": {},
   "source": [
    "### Question 3\n",
    "\n",
    "Use `groupby` to group the `rating` variable by the player's `position`. Which `position` has the highest mean `rating`? Remember to chain `.sort_values(ascending=False)` to sort the resulting data on their values and not alphabetically by position name."
   ]
  },
  {
   "cell_type": "code",
   "execution_count": 49,
   "metadata": {},
   "outputs": [
    {
     "data": {
      "text/plain": [
       "position\n",
       "A     67.260807\n",
       "M     67.087142\n",
       "D     66.059055\n",
       "GK    65.918280\n",
       "Name: rating, dtype: float64"
      ]
     },
     "execution_count": 49,
     "metadata": {},
     "output_type": "execute_result"
    }
   ],
   "source": [
    "grouped = df[\"rating\"].groupby(df[\"position\"])\n",
    "grouped.mean().sort_values(ascending = False)"
   ]
  },
  {
   "cell_type": "code",
   "execution_count": 90,
   "metadata": {},
   "outputs": [
    {
     "name": "stdout",
     "output_type": "stream",
     "text": [
      "Highest mean rating:  67.26080691642652\n",
      "\n",
      "Position A has the highest mean rating.\n"
     ]
    }
   ],
   "source": [
    "print(\"Highest mean rating: \", grouped.mean().max())\n",
    "print(\"\\nPosition A has the highest mean rating.\")"
   ]
  },
  {
   "cell_type": "markdown",
   "metadata": {},
   "source": [
    "### Question 4\n",
    "\n",
    "Create a Pandas `pivot_table` to count the number of players in each `position`. Use `rating` as the aggregation value again, but this time pass `aggfunc='count'` to report the number of players. Which `position` has the most players? Remember to sort the values in descending order, and include `by='rating'` to sort on the counted data."
   ]
  },
  {
   "cell_type": "code",
   "execution_count": 5,
   "metadata": {
    "scrolled": true
   },
   "outputs": [
    {
     "data": {
      "text/html": [
       "<div>\n",
       "<style scoped>\n",
       "    .dataframe tbody tr th:only-of-type {\n",
       "        vertical-align: middle;\n",
       "    }\n",
       "\n",
       "    .dataframe tbody tr th {\n",
       "        vertical-align: top;\n",
       "    }\n",
       "\n",
       "    .dataframe thead th {\n",
       "        text-align: right;\n",
       "    }\n",
       "</style>\n",
       "<table border=\"1\" class=\"dataframe\">\n",
       "  <thead>\n",
       "    <tr style=\"text-align: right;\">\n",
       "      <th></th>\n",
       "      <th>rating</th>\n",
       "    </tr>\n",
       "    <tr>\n",
       "      <th>position</th>\n",
       "      <th></th>\n",
       "    </tr>\n",
       "  </thead>\n",
       "  <tbody>\n",
       "    <tr>\n",
       "      <th>All</th>\n",
       "      <td>8847</td>\n",
       "    </tr>\n",
       "    <tr>\n",
       "      <th>M</th>\n",
       "      <td>3041</td>\n",
       "    </tr>\n",
       "    <tr>\n",
       "      <th>D</th>\n",
       "      <td>2794</td>\n",
       "    </tr>\n",
       "    <tr>\n",
       "      <th>A</th>\n",
       "      <td>2082</td>\n",
       "    </tr>\n",
       "    <tr>\n",
       "      <th>GK</th>\n",
       "      <td>930</td>\n",
       "    </tr>\n",
       "  </tbody>\n",
       "</table>\n",
       "</div>"
      ],
      "text/plain": [
       "          rating\n",
       "position        \n",
       "All         8847\n",
       "M           3041\n",
       "D           2794\n",
       "A           2082\n",
       "GK           930"
      ]
     },
     "execution_count": 5,
     "metadata": {},
     "output_type": "execute_result"
    }
   ],
   "source": [
    "Temp = pd.pivot_table(data=df, values='rating', index='position', aggfunc='count', margins=True)\n",
    "Temp.sort_values(by='rating', ascending=False)"
   ]
  },
  {
   "cell_type": "code",
   "execution_count": 91,
   "metadata": {},
   "outputs": [
    {
     "name": "stdout",
     "output_type": "stream",
     "text": [
      "Postion M has most players\n"
     ]
    }
   ],
   "source": [
    "print(\"Postion M has most players\")"
   ]
  },
  {
   "cell_type": "markdown",
   "metadata": {},
   "source": [
    "### Question 5\n",
    "\n",
    "Create a Pandas `crosstab` to compare the number of players in each `position` by `foot`. Set `normalize='all'` and `margins=True` to view the data as a percent of the total. What combination of footedness and position is the most rare in our data?"
   ]
  },
  {
   "cell_type": "code",
   "execution_count": 64,
   "metadata": {},
   "outputs": [
    {
     "data": {
      "text/html": [
       "<div>\n",
       "<style scoped>\n",
       "    .dataframe tbody tr th:only-of-type {\n",
       "        vertical-align: middle;\n",
       "    }\n",
       "\n",
       "    .dataframe tbody tr th {\n",
       "        vertical-align: top;\n",
       "    }\n",
       "\n",
       "    .dataframe thead th {\n",
       "        text-align: right;\n",
       "    }\n",
       "</style>\n",
       "<table border=\"1\" class=\"dataframe\">\n",
       "  <thead>\n",
       "    <tr style=\"text-align: right;\">\n",
       "      <th>foot</th>\n",
       "      <th>Left</th>\n",
       "      <th>Right</th>\n",
       "      <th>All</th>\n",
       "    </tr>\n",
       "    <tr>\n",
       "      <th>position</th>\n",
       "      <th></th>\n",
       "      <th></th>\n",
       "      <th></th>\n",
       "    </tr>\n",
       "  </thead>\n",
       "  <tbody>\n",
       "    <tr>\n",
       "      <th>A</th>\n",
       "      <td>0.041596</td>\n",
       "      <td>0.193738</td>\n",
       "      <td>0.235334</td>\n",
       "    </tr>\n",
       "    <tr>\n",
       "      <th>D</th>\n",
       "      <td>0.103425</td>\n",
       "      <td>0.212388</td>\n",
       "      <td>0.315813</td>\n",
       "    </tr>\n",
       "    <tr>\n",
       "      <th>GK</th>\n",
       "      <td>0.011077</td>\n",
       "      <td>0.094043</td>\n",
       "      <td>0.105120</td>\n",
       "    </tr>\n",
       "    <tr>\n",
       "      <th>M</th>\n",
       "      <td>0.079575</td>\n",
       "      <td>0.264157</td>\n",
       "      <td>0.343732</td>\n",
       "    </tr>\n",
       "    <tr>\n",
       "      <th>All</th>\n",
       "      <td>0.235673</td>\n",
       "      <td>0.764327</td>\n",
       "      <td>1.000000</td>\n",
       "    </tr>\n",
       "  </tbody>\n",
       "</table>\n",
       "</div>"
      ],
      "text/plain": [
       "foot          Left     Right       All\n",
       "position                              \n",
       "A         0.041596  0.193738  0.235334\n",
       "D         0.103425  0.212388  0.315813\n",
       "GK        0.011077  0.094043  0.105120\n",
       "M         0.079575  0.264157  0.343732\n",
       "All       0.235673  0.764327  1.000000"
      ]
     },
     "execution_count": 64,
     "metadata": {},
     "output_type": "execute_result"
    }
   ],
   "source": [
    "pd.crosstab(df[\"position\"], df[\"foot\"], margins = True, normalize = 'all')"
   ]
  },
  {
   "cell_type": "code",
   "execution_count": 66,
   "metadata": {},
   "outputs": [
    {
     "name": "stdout",
     "output_type": "stream",
     "text": [
      "Combination of Left and GK is the most rare in the data\n"
     ]
    }
   ],
   "source": [
    "print(\"Combination of {} and {} is the most rare in the data\".format(\"Left\",\"GK\"))"
   ]
  },
  {
   "cell_type": "markdown",
   "metadata": {},
   "source": [
    "### Question 6\n",
    "\n",
    "Now we will look at some Major League Soccer (MLS) data in the U.S. Load the `'mls_salaries17.csv'` file and aggregate the data by `position` to count how many players in the MLS play at each position. Remember to sort the values from largest to smallest. Is the same position in Question 4 the largest in the MLS too?"
   ]
  },
  {
   "cell_type": "code",
   "execution_count": 106,
   "metadata": {
    "scrolled": true
   },
   "outputs": [
    {
     "data": {
      "text/plain": [
       "position\n",
       "M     236\n",
       "D     199\n",
       "A     116\n",
       "GK     65\n",
       "Name: id, dtype: int64"
      ]
     },
     "execution_count": 106,
     "metadata": {},
     "output_type": "execute_result"
    }
   ],
   "source": [
    "MLS_data = pd.read_csv(\"mls_salaries17.csv\")\n",
    "\n",
    "MLS_Pivot = MLS_data.groupby(\"position\").count()\n",
    "\n",
    "MLS_Pivot[\"id\"].sort_values(ascending=False)"
   ]
  },
  {
   "cell_type": "markdown",
   "metadata": {},
   "source": [
    "### Question 7\n",
    "\n",
    "Group the MLS `base_salary` data by `club` to find the club with the highest average (`mean`) salary. Group the MLS salary data again to find the club with the highest `max` salary. Is there a difference between the two? Remember to sort the values from largest to smallest."
   ]
  },
  {
   "cell_type": "code",
   "execution_count": 32,
   "metadata": {},
   "outputs": [
    {
     "data": {
      "text/plain": [
       "club\n",
       "Toronto FC                718893.642857\n",
       "New York City FC          620375.917143\n",
       "Chicago Fire              454541.629630\n",
       "Orlando City              412969.477419\n",
       "Seattle Sounders FC       359468.115600\n",
       "Portland Timbers          344241.927407\n",
       "LA Galaxy                 343161.194483\n",
       "Colorado Rapids           279028.798077\n",
       "Atlanta United FC         259213.420645\n",
       "Real Salt Lake            253942.238519\n",
       "Sporting Kansas City      239378.769231\n",
       "New England Revolution    235086.663043\n",
       "New York Red Bulls        225499.357143\n",
       "San Jose Earthquakes      221709.172414\n",
       "Vancouver Whitecaps       220011.440000\n",
       "Columbus Crew             211507.749333\n",
       "Philadelphia Union        210221.806452\n",
       "FC Dallas                 206571.699310\n",
       "Montreal Impact           187950.780741\n",
       "Minnesota United          182446.149630\n",
       "DC United                 178227.238519\n",
       "Houston Dynamo            175144.642143\n",
       "Name: base_salary, dtype: float64"
      ]
     },
     "execution_count": 32,
     "metadata": {},
     "output_type": "execute_result"
    }
   ],
   "source": [
    "MLS_Sal_Grp = MLS_data[\"base_salary\"].groupby(MLS_data[\"club\"])\n",
    "Average_Salary = MLS_Sal_Grp.mean().sort_values(ascending=False)\n",
    "Average_Salary"
   ]
  },
  {
   "cell_type": "code",
   "execution_count": 142,
   "metadata": {},
   "outputs": [
    {
     "name": "stdout",
     "output_type": "stream",
     "text": [
      "Club with the highest average (mean) salary is Toronto FC and the average salary is 718893.64\n"
     ]
    }
   ],
   "source": [
    "print(\"Club with the highest average (mean) salary is {Name} and the average salary is {Salary}\".format(Name = \"Toronto FC\", Salary = round(Average_Salary.max(),2)))"
   ]
  },
  {
   "cell_type": "code",
   "execution_count": 34,
   "metadata": {},
   "outputs": [
    {
     "data": {
      "text/plain": [
       "club\n",
       "Orlando City              6660000.00\n",
       "Toronto FC                6000000.00\n",
       "New York City FC          5610000.00\n",
       "Chicago Fire              5400000.00\n",
       "LA Galaxy                 3750000.00\n",
       "Seattle Sounders FC       3200000.00\n",
       "Portland Timbers          2227500.00\n",
       "Colorado Rapids           2000000.00\n",
       "Atlanta United FC         1912500.00\n",
       "Real Salt Lake            1750000.00\n",
       "New York Red Bulls        1500000.00\n",
       "Vancouver Whitecaps       1400000.04\n",
       "Philadelphia Union        1131000.00\n",
       "Columbus Crew             1050000.00\n",
       "Sporting Kansas City       850000.00\n",
       "New England Revolution     840000.00\n",
       "San Jose Earthquakes       800000.00\n",
       "FC Dallas                  784000.00\n",
       "Montreal Impact            700000.08\n",
       "Houston Dynamo             650000.00\n",
       "Minnesota United           550008.00\n",
       "DC United                  500000.00\n",
       "Name: base_salary, dtype: float64"
      ]
     },
     "execution_count": 34,
     "metadata": {},
     "output_type": "execute_result"
    }
   ],
   "source": [
    "Maximum_Salary = MLS_Sal_Grp.max().sort_values(ascending=False)\n",
    "Maximum_Salary"
   ]
  },
  {
   "cell_type": "code",
   "execution_count": 143,
   "metadata": {},
   "outputs": [
    {
     "name": "stdout",
     "output_type": "stream",
     "text": [
      "Club with the highest max salary is Orlando City and the average salary is 6660000.0\n",
      "\n",
      "Yes, there is a difference between the club with the highest average salary and the club with the highest max salary\n"
     ]
    }
   ],
   "source": [
    "print(\"Club with the highest max salary is {Name} and the average salary is {Salary}\".format(Name = \"Orlando City\", Salary = round(Maximum_Salary.max(),2)))\n",
    "\n",
    "print(\"\\nYes, there is a difference between the club with the highest average salary and the club with the highest max salary\")"
   ]
  },
  {
   "cell_type": "markdown",
   "metadata": {},
   "source": [
    "### Question 8\n",
    "\n",
    "Use Pandas indexing to find the row with the highest-paid player using `base_salary`. How far above the average salary is his `base_salary`?"
   ]
  },
  {
   "cell_type": "code",
   "execution_count": 145,
   "metadata": {},
   "outputs": [
    {
     "data": {
      "text/html": [
       "<div>\n",
       "<style scoped>\n",
       "    .dataframe tbody tr th:only-of-type {\n",
       "        vertical-align: middle;\n",
       "    }\n",
       "\n",
       "    .dataframe tbody tr th {\n",
       "        vertical-align: top;\n",
       "    }\n",
       "\n",
       "    .dataframe thead th {\n",
       "        text-align: right;\n",
       "    }\n",
       "</style>\n",
       "<table border=\"1\" class=\"dataframe\">\n",
       "  <thead>\n",
       "    <tr style=\"text-align: right;\">\n",
       "      <th></th>\n",
       "      <th>id</th>\n",
       "      <th>club</th>\n",
       "      <th>last_name</th>\n",
       "      <th>first_name</th>\n",
       "      <th>base_salary</th>\n",
       "    </tr>\n",
       "  </thead>\n",
       "  <tbody>\n",
       "    <tr>\n",
       "      <th>401</th>\n",
       "      <td>ORL</td>\n",
       "      <td>Orlando City</td>\n",
       "      <td>Kaka</td>\n",
       "      <td>NaN</td>\n",
       "      <td>6660000.0</td>\n",
       "    </tr>\n",
       "  </tbody>\n",
       "</table>\n",
       "</div>"
      ],
      "text/plain": [
       "      id          club last_name first_name  base_salary\n",
       "401  ORL  Orlando City      Kaka        NaN    6660000.0"
      ]
     },
     "execution_count": 145,
     "metadata": {},
     "output_type": "execute_result"
    }
   ],
   "source": [
    "MLS_data[[\"id\",\"club\",\"last_name\",\"first_name\",\"base_salary\"]][MLS_data[\"base_salary\"] == MLS_data[\"base_salary\"].max()]"
   ]
  },
  {
   "cell_type": "code",
   "execution_count": 146,
   "metadata": {},
   "outputs": [
    {
     "name": "stdout",
     "output_type": "stream",
     "text": [
      "Distance from the average salary:  6363022.26\n"
     ]
    }
   ],
   "source": [
    "print(\"Distance from the average salary: \", round(MLS_data[\"base_salary\"].max() - MLS_data[\"base_salary\"].mean(),2))"
   ]
  },
  {
   "cell_type": "markdown",
   "metadata": {},
   "source": [
    "### Question 9\n",
    "\n",
    "Load the MLS team rankings data from `'mls_rankings17.csv'`. Print the `shape` of this data set and of the `'mls_salary17.csv'`. Merge the two DataFrames together on `id` and `club` and print the `shape` of the resulting dataframe. The number of columns from the merged DataFrame should be two less than the sum of the columns of both to account for the merge keys that are the same in both."
   ]
  },
  {
   "cell_type": "code",
   "execution_count": 40,
   "metadata": {},
   "outputs": [
    {
     "data": {
      "text/plain": [
       "(22, 11)"
      ]
     },
     "execution_count": 40,
     "metadata": {},
     "output_type": "execute_result"
    }
   ],
   "source": [
    "MLS_Ranking = pd.read_csv('mls_rankings17.csv')\n",
    "MLS_Ranking.shape"
   ]
  },
  {
   "cell_type": "code",
   "execution_count": 39,
   "metadata": {
    "scrolled": true
   },
   "outputs": [
    {
     "data": {
      "text/plain": [
       "(616, 7)"
      ]
     },
     "execution_count": 39,
     "metadata": {},
     "output_type": "execute_result"
    }
   ],
   "source": [
    "MLS_data.shape"
   ]
  },
  {
   "cell_type": "code",
   "execution_count": 67,
   "metadata": {},
   "outputs": [
    {
     "data": {
      "text/plain": [
       "(616, 16)"
      ]
     },
     "execution_count": 67,
     "metadata": {},
     "output_type": "execute_result"
    }
   ],
   "source": [
    "Merged_Dataset = pd.merge(MLS_Ranking, MLS_data, on = [\"id\",\"club\"])\n",
    "Merged_Dataset.shape"
   ]
  },
  {
   "cell_type": "markdown",
   "metadata": {},
   "source": [
    "### Question 10\n",
    "\n",
    "Use `np.where()` to add an indicator variable identifying teams in the top 10 (where `ranking` is greater than or equal to 10.) Call this new variable `top10`. Create a pivot table using the combined MLS data. Use `'top10'` as the index value, `position` as the column value, and `base_salary` to fill the table. Aggregate using the `mean`. Do the higher-performing clubs tend to pay their players more or less than the lower-performing clubs?"
   ]
  },
  {
   "cell_type": "code",
   "execution_count": 147,
   "metadata": {},
   "outputs": [
    {
     "data": {
      "text/html": [
       "<div>\n",
       "<style scoped>\n",
       "    .dataframe tbody tr th:only-of-type {\n",
       "        vertical-align: middle;\n",
       "    }\n",
       "\n",
       "    .dataframe tbody tr th {\n",
       "        vertical-align: top;\n",
       "    }\n",
       "\n",
       "    .dataframe thead th {\n",
       "        text-align: right;\n",
       "    }\n",
       "</style>\n",
       "<table border=\"1\" class=\"dataframe\">\n",
       "  <thead>\n",
       "    <tr style=\"text-align: right;\">\n",
       "      <th>position</th>\n",
       "      <th>A</th>\n",
       "      <th>D</th>\n",
       "      <th>GK</th>\n",
       "      <th>M</th>\n",
       "    </tr>\n",
       "  </thead>\n",
       "  <tbody>\n",
       "    <tr>\n",
       "      <th>Top 10 Teams</th>\n",
       "      <td>698952.711600</td>\n",
       "      <td>164459.559565</td>\n",
       "      <td>117117.458621</td>\n",
       "      <td>417861.343628</td>\n",
       "    </tr>\n",
       "    <tr>\n",
       "      <th>Under Top 10 Teams</th>\n",
       "      <td>311477.661212</td>\n",
       "      <td>164251.849252</td>\n",
       "      <td>170119.644722</td>\n",
       "      <td>308852.455285</td>\n",
       "    </tr>\n",
       "  </tbody>\n",
       "</table>\n",
       "</div>"
      ],
      "text/plain": [
       "position                        A              D             GK              M\n",
       "Top 10 Teams        698952.711600  164459.559565  117117.458621  417861.343628\n",
       "Under Top 10 Teams  311477.661212  164251.849252  170119.644722  308852.455285"
      ]
     },
     "execution_count": 147,
     "metadata": {},
     "output_type": "execute_result"
    }
   ],
   "source": [
    "Condition = Merged_Dataset['ranking']\n",
    "\n",
    "top_10_teams = np.where(Condition <= 10, \"Top 10 Teams\", \"Under Top 10 Teams\")\n",
    "\n",
    "Merged_Dataset_Pivot = pd.pivot_table(data = Merged_Dataset, values =\"base_salary\", index = top_10_teams, columns = \"position\", aggfunc = \"mean\")\n",
    "Merged_Dataset_Pivot"
   ]
  },
  {
   "cell_type": "code",
   "execution_count": 148,
   "metadata": {},
   "outputs": [
    {
     "data": {
      "text/plain": [
       "Top 10 Teams          349597.768354\n",
       "Under Top 10 Teams    238675.402618\n",
       "dtype: float64"
      ]
     },
     "execution_count": 148,
     "metadata": {},
     "output_type": "execute_result"
    }
   ],
   "source": [
    "Merged_Dataset_Pivot.mean(axis = 1)"
   ]
  },
  {
   "cell_type": "code",
   "execution_count": 149,
   "metadata": {},
   "outputs": [
    {
     "name": "stdout",
     "output_type": "stream",
     "text": [
      "Higher-performing clubs tend to pay their players more than the lower-performing clubs\n"
     ]
    }
   ],
   "source": [
    "print(\"Higher-performing clubs tend to pay their players more than the lower-performing clubs\")"
   ]
  },
  {
   "cell_type": "code",
   "execution_count": null,
   "metadata": {},
   "outputs": [],
   "source": []
  }
 ],
 "metadata": {
  "kernelspec": {
   "display_name": "Python 3",
   "language": "python",
   "name": "python3"
  },
  "language_info": {
   "codemirror_mode": {
    "name": "ipython",
    "version": 3
   },
   "file_extension": ".py",
   "mimetype": "text/x-python",
   "name": "python",
   "nbconvert_exporter": "python",
   "pygments_lexer": "ipython3",
   "version": "3.8.5"
  }
 },
 "nbformat": 4,
 "nbformat_minor": 4
}
