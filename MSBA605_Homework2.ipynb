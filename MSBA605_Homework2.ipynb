{
 "cells": [
  {
   "cell_type": "markdown",
   "metadata": {},
   "source": [
    "# Homework Assignment 2"
   ]
  },
  {
   "cell_type": "code",
   "execution_count": 82,
   "metadata": {},
   "outputs": [],
   "source": [
    "import numpy as np\n",
    "import pandas as pd"
   ]
  },
  {
   "cell_type": "markdown",
   "metadata": {},
   "source": [
    "### Question 1\n",
    "\n",
    "Create a 4x3 array of letters from `a` through `l` and call it `array1`. Copy the array and call it `array2`, then reshape `array2` to a 6x2 array. Create another copy of the array, called `array3`, and flatten it into a one-dimensional array. Print all three arrays."
   ]
  },
  {
   "cell_type": "code",
   "execution_count": 2,
   "metadata": {},
   "outputs": [
    {
     "name": "stdout",
     "output_type": "stream",
     "text": [
      "array1 is: \n",
      " [['a' 'b' 'c']\n",
      " ['d' 'e' 'f']\n",
      " ['g' 'h' 'i']\n",
      " ['j' 'k' 'l']]\n",
      "\n",
      "array2 is: \n",
      " [['a' 'b']\n",
      " ['c' 'd']\n",
      " ['e' 'f']\n",
      " ['g' 'h']\n",
      " ['i' 'j']\n",
      " ['k' 'l']]\n",
      "\n",
      "array3 is:  ['a' 'b' 'c' 'd' 'e' 'f' 'g' 'h' 'i' 'j' 'k' 'l']\n"
     ]
    }
   ],
   "source": [
    "# Create a 4x3 array of letters from a through l and call it array1:\n",
    "array1 = np.array([['a','b','c'],['d','e','f'],['g','h','i'],['j','k','l']])\n",
    "\n",
    "# Copy the array and call it array2\n",
    "array2 = array1.copy()\n",
    "\n",
    "# Reshape array2 to a 6x2 array\n",
    "array2 = array2.reshape(6,2)\n",
    "\n",
    "# Create another copy of the array, called array3\n",
    "array3 = array1.copy()\n",
    "\n",
    "# Flatten it into a one-dimensional array.\n",
    "array3 = array3.flatten()\n",
    "\n",
    "# Printing all arrays\n",
    "print(\"array1 is: \\n\", array1)\n",
    "print(\"\\narray2 is: \\n\", array2)\n",
    "print(\"\\narray3 is: \", array3)"
   ]
  },
  {
   "cell_type": "markdown",
   "metadata": {},
   "source": [
    "### Question 2\n",
    "\n",
    "Create a 3x3 array of integers from 1-9. Calculate the array's row means, then broadcast the row means to subtract them from the original array. (**Note:** the row axis in Python is denoted by `0` while the column axis is denoted by `1`.)"
   ]
  },
  {
   "cell_type": "code",
   "execution_count": 42,
   "metadata": {},
   "outputs": [
    {
     "data": {
      "text/plain": [
       "array([[-3., -3., -3.],\n",
       "       [ 0.,  0.,  0.],\n",
       "       [ 3.,  3.,  3.]])"
      ]
     },
     "execution_count": 42,
     "metadata": {},
     "output_type": "execute_result"
    }
   ],
   "source": [
    "# Create a 3x3 array of integers from 1-9.\n",
    "num_array = np.array([[1,2,3],[4,5,6],[7,8,9]])\n",
    "\n",
    "# Calculate the array's row means\n",
    "num_array.mean(0)\n",
    "\n",
    "# Broadcast the row means to subtract them from the original array.\n",
    "num_array - num_array.mean(0)"
   ]
  },
  {
   "cell_type": "markdown",
   "metadata": {},
   "source": [
    "### Question 3\n",
    "\n",
    "Using the two arrays provided, first select all rows from `grades` where `students` is either `'Cora'` or `'David'`"
   ]
  },
  {
   "cell_type": "code",
   "execution_count": 86,
   "metadata": {},
   "outputs": [
    {
     "data": {
      "text/plain": [
       "array([[85, 85],\n",
       "       [87, 92]])"
      ]
     },
     "execution_count": 86,
     "metadata": {},
     "output_type": "execute_result"
    }
   ],
   "source": [
    "students = np.array(['Arthur', 'Betty', 'Cora', 'David', 'Ethan'])\n",
    "grades = np.array([[95, 80], [72, 78], [85, 85], [87, 92], [82, 88]])\n",
    "\n",
    "grades[(students == \"Cora\") | (students == \"David\")]"
   ]
  },
  {
   "cell_type": "markdown",
   "metadata": {},
   "source": [
    "### Question 4\n",
    "\n",
    "Use `np.where()` to create a Boolean array that will print `True` when the student's grade is greater than the overall class average (or `mean`) and `False` when it is not."
   ]
  },
  {
   "cell_type": "code",
   "execution_count": 79,
   "metadata": {},
   "outputs": [
    {
     "data": {
      "text/plain": [
       "(5, 2)"
      ]
     },
     "execution_count": 79,
     "metadata": {},
     "output_type": "execute_result"
    }
   ],
   "source": [
    "grades.shape"
   ]
  },
  {
   "cell_type": "code",
   "execution_count": 80,
   "metadata": {},
   "outputs": [
    {
     "data": {
      "text/plain": [
       "array([87.5, 75. , 85. , 89.5, 85. ])"
      ]
     },
     "execution_count": 80,
     "metadata": {},
     "output_type": "execute_result"
    }
   ],
   "source": [
    "grades.mean(1)"
   ]
  },
  {
   "cell_type": "code",
   "execution_count": 75,
   "metadata": {
    "scrolled": true
   },
   "outputs": [
    {
     "data": {
      "text/plain": [
       "array([[ True, False],\n",
       "       [False, False],\n",
       "       [ True,  True],\n",
       "       [ True,  True],\n",
       "       [False,  True]])"
      ]
     },
     "execution_count": 75,
     "metadata": {},
     "output_type": "execute_result"
    }
   ],
   "source": [
    "np.where(grades > np.mean(grades), True, False)"
   ]
  },
  {
   "cell_type": "code",
   "execution_count": 70,
   "metadata": {},
   "outputs": [
    {
     "data": {
      "text/plain": [
       "array([ True, False,  True,  True,  True])"
      ]
     },
     "execution_count": 70,
     "metadata": {},
     "output_type": "execute_result"
    }
   ],
   "source": [
    "np.where(grades.mean(1) > np.mean(grades), True, False)"
   ]
  },
  {
   "cell_type": "markdown",
   "metadata": {},
   "source": [
    "### Question 5\n",
    "\n",
    "Create a 2x4 array of random numbers called `a` using `np.random.randn()` and a 3x4 array of random numbers called `b`. Multiply matrices `a` and `b` together to find the dot product. What is the `shape` of the resulting array? (**Note:** Remember to transpose the arrays as needed!)"
   ]
  },
  {
   "cell_type": "code",
   "execution_count": 64,
   "metadata": {},
   "outputs": [
    {
     "name": "stdout",
     "output_type": "stream",
     "text": [
      "[[-1.23931917  1.99708932  0.76345607]\n",
      " [-0.8275781  -0.99470523  0.24051326]]\n",
      "\n",
      "The array is two dimensional and its shape is: (2, 3)\n"
     ]
    }
   ],
   "source": [
    "a = np.random.randn(2,4)\n",
    "b = np.random.randn(3,4)\n",
    "B = b.T\n",
    "\n",
    "result = a.dot(B)\n",
    "\n",
    "print(result)\n",
    "\n",
    "print(\"\\nThe array is two dimensional and its shape is:\", result.shape) "
   ]
  },
  {
   "cell_type": "markdown",
   "metadata": {},
   "source": [
    "### Question 6\n",
    "\n",
    "Create a Pandas `Series` using the given list of U.S. presidents as the values and the list of election years as the index. Who was elected president in 1876?"
   ]
  },
  {
   "cell_type": "code",
   "execution_count": 65,
   "metadata": {},
   "outputs": [
    {
     "data": {
      "text/plain": [
       "'Rutherford B. Hayes'"
      ]
     },
     "execution_count": 65,
     "metadata": {},
     "output_type": "execute_result"
    }
   ],
   "source": [
    "year = [1788,1792,1796,1800,1804,1808,1812,1816,1820,1824,1828,1832,1836,1840,1840,1844,1848,1848,1852,1856,1860,1864,1864,1868,1872,1876,1880,1880,1884,1888,1892,1896,1900,1904,1908,1912,1916,1920,1924,1928,1932,1936,1940,1944,1948,1952,1956,1960,1964,1968,1972,1972,1976,1980,1984,1988,1992,1996,2000,2004,2008,2012,2016,2020]\n",
    "name = ['George Washington','George Washington','John Adams','Thomas Jefferson','Thomas Jefferson','James Madison','James Madison','James Monroe','James Monroe','John Quincy Adams','Andrew Jackson','Andrew Jackson','Martin Van Buren','William Henry Harrison','John Tyler','James K. Polk','Zachary Taylor','Millard Fillmore','Franklin Pierce','James Buchanan','Abraham Lincoln','Abraham Lincoln','Andrew Johnson','Ulysses S. Grant','Ulysses S. Grant','Rutherford B. Hayes','James A. Garfield','Chester A. Arthur','Grover Cleveland','Benjamin Harrison','Grover Cleveland','William McKinley','William McKinley','Theodore Roosevelt','William Howard Taft','Woodrow Wilson','Woodrow Wilson','Warren G. Harding','Calvin Coolidge','Herbert Hoover','Franklin D. Roosevelt','Franklin D. Roosevelt','Franklin D. Roosevelt','Franklin D. Roosevelt','Harry S. Truman','Dwight D. Eisenhower','Dwight D. Eisenhower','John F. Kennedy','Lyndon B. Johnson','Richard Nixon','Richard Nixon','Gerald Ford','Jimmy Carter','Ronald Reagan','Ronald Reagan','George H. W. Bush','Bill Clinton','Bill Clinton','George W. Bush','George W. Bush','Barack Obama','Barack Obama','Donald Trump','Joe Biden']\n",
    "\n",
    "US_Presidents = pd.Series(name,index = year)\n",
    "US_Presidents[1876]"
   ]
  },
  {
   "cell_type": "markdown",
   "metadata": {},
   "source": [
    "### Question 7\n",
    "\n",
    "Create a Pandas DataFrame called `df` from the three Series below. Use the Series names as the column names. Slice the DataFrame to see what `party` William Howard Taft belonged to and what `year` he was elected."
   ]
  },
  {
   "cell_type": "code",
   "execution_count": 69,
   "metadata": {},
   "outputs": [
    {
     "data": {
      "text/html": [
       "<div>\n",
       "<style scoped>\n",
       "    .dataframe tbody tr th:only-of-type {\n",
       "        vertical-align: middle;\n",
       "    }\n",
       "\n",
       "    .dataframe tbody tr th {\n",
       "        vertical-align: top;\n",
       "    }\n",
       "\n",
       "    .dataframe thead th {\n",
       "        text-align: right;\n",
       "    }\n",
       "</style>\n",
       "<table border=\"1\" class=\"dataframe\">\n",
       "  <thead>\n",
       "    <tr style=\"text-align: right;\">\n",
       "      <th></th>\n",
       "      <th>year</th>\n",
       "      <th>party</th>\n",
       "    </tr>\n",
       "  </thead>\n",
       "  <tbody>\n",
       "    <tr>\n",
       "      <th>34</th>\n",
       "      <td>1908</td>\n",
       "      <td>Republican</td>\n",
       "    </tr>\n",
       "  </tbody>\n",
       "</table>\n",
       "</div>"
      ],
      "text/plain": [
       "    year       party\n",
       "34  1908  Republican"
      ]
     },
     "execution_count": 69,
     "metadata": {},
     "output_type": "execute_result"
    }
   ],
   "source": [
    "year = pd.Series([1788,1792,1796,1800,1804,1808,1812,1816,1820,1824,1828,1832,1836,1840,1840,1844,1848,1848,1852,1856,1860,1864,1864,1868,1872,1876,1880,1880,1884,1888,1892,1896,1900,1904,1908,1912,1916,1920,1924,1928,1932,1936,1940,1944,1948,1952,1956,1960,1964,1968,1972,1972,1976,1980,1984,1988,1992,1996,2000,2004,2008,2012,2016,2020])\n",
    "name = pd.Series(['George Washington','George Washington','John Adams','Thomas Jefferson','Thomas Jefferson','James Madison','James Madison','James Monroe','James Monroe','John Quincy Adams','Andrew Jackson','Andrew Jackson','Martin Van Buren','William Henry Harrison','John Tyler','James K. Polk','Zachary Taylor','Millard Fillmore','Franklin Pierce','James Buchanan','Abraham Lincoln','Abraham Lincoln','Andrew Johnson','Ulysses S. Grant','Ulysses S. Grant','Rutherford B. Hayes','James A. Garfield','Chester A. Arthur','Grover Cleveland','Benjamin Harrison','Grover Cleveland','William McKinley','William McKinley','Theodore Roosevelt','William Howard Taft','Woodrow Wilson','Woodrow Wilson','Warren G. Harding','Calvin Coolidge','Herbert Hoover','Franklin D. Roosevelt','Franklin D. Roosevelt','Franklin D. Roosevelt','Franklin D. Roosevelt','Harry S. Truman','Dwight D. Eisenhower','Dwight D. Eisenhower','John F. Kennedy','Lyndon B. Johnson','Richard Nixon','Richard Nixon','Gerald Ford','Jimmy Carter','Ronald Reagan','Ronald Reagan','George H. W. Bush','Bill Clinton','Bill Clinton','George W. Bush','George W. Bush','Barack Obama','Barack Obama','Donald Trump','Joe Biden'])\n",
    "party = pd.Series(['Unaffiliated','Unaffiliated','Federalist','Democratic-Republican','Democratic-Republican','Democratic-Republican','Democratic-Republican','Democratic-Republican','Democratic-Republican','Democratic-Republican','Democratic','Democratic','Democratic','Whig','Whig','Democratic','Whig','Whig','Democratic','Democratic','Republican','National Union','Democratic','Republican','Republican','Republican','Republican','Republican','Democratic','Republican','Democratic','Republican','Republican','Republican','Republican','Democratic','Democratic','Republican','Republican','Republican','Democratic','Democratic','Democratic','Democratic','Democratic','Republican','Republican','Democratic','Democratic','Republican','Republican','Republican','Democratic','Republican','Republican','Republican','Democratic','Democratic','Republican','Republican','Democratic','Democratic','Republican','Democratic'])\n",
    "number = pd.Series([1,1,2,3,3,4,4,5,5,6,7,7,8,9,10,11,12,13,14,15,16,16,17,18,18,19,20,21,22,23,24,25,25,26,27,28,28,29,30,31,32,32,32,32,33,34,34,35,36,37,37,38,39,40,40,41,42,42,43,43,44,44,45,46])\n",
    "\n",
    "df = pd.DataFrame({\"year\" : year, \"name\" : name, \"party\" : party})\n",
    "Temp = df[(df[\"name\"] == \"William Howard Taft\")]\n",
    "Temp[[\"year\",\"party\"]]"
   ]
  },
  {
   "cell_type": "markdown",
   "metadata": {},
   "source": [
    "### Question 8\n",
    "\n",
    "Using the DataFrame you created in the question before, `set_index` to the `year` column if you have not already done this. Slice the DataFrame using `.loc` to show all those who were president from 1900-1920."
   ]
  },
  {
   "cell_type": "code",
   "execution_count": 67,
   "metadata": {},
   "outputs": [
    {
     "data": {
      "text/html": [
       "<div>\n",
       "<style scoped>\n",
       "    .dataframe tbody tr th:only-of-type {\n",
       "        vertical-align: middle;\n",
       "    }\n",
       "\n",
       "    .dataframe tbody tr th {\n",
       "        vertical-align: top;\n",
       "    }\n",
       "\n",
       "    .dataframe thead th {\n",
       "        text-align: right;\n",
       "    }\n",
       "</style>\n",
       "<table border=\"1\" class=\"dataframe\">\n",
       "  <thead>\n",
       "    <tr style=\"text-align: right;\">\n",
       "      <th></th>\n",
       "      <th>name</th>\n",
       "      <th>party</th>\n",
       "    </tr>\n",
       "    <tr>\n",
       "      <th>year</th>\n",
       "      <th></th>\n",
       "      <th></th>\n",
       "    </tr>\n",
       "  </thead>\n",
       "  <tbody>\n",
       "    <tr>\n",
       "      <th>1900</th>\n",
       "      <td>William McKinley</td>\n",
       "      <td>Republican</td>\n",
       "    </tr>\n",
       "    <tr>\n",
       "      <th>1904</th>\n",
       "      <td>Theodore Roosevelt</td>\n",
       "      <td>Republican</td>\n",
       "    </tr>\n",
       "    <tr>\n",
       "      <th>1908</th>\n",
       "      <td>William Howard Taft</td>\n",
       "      <td>Republican</td>\n",
       "    </tr>\n",
       "    <tr>\n",
       "      <th>1912</th>\n",
       "      <td>Woodrow Wilson</td>\n",
       "      <td>Democratic</td>\n",
       "    </tr>\n",
       "    <tr>\n",
       "      <th>1916</th>\n",
       "      <td>Woodrow Wilson</td>\n",
       "      <td>Democratic</td>\n",
       "    </tr>\n",
       "    <tr>\n",
       "      <th>1920</th>\n",
       "      <td>Warren G. Harding</td>\n",
       "      <td>Republican</td>\n",
       "    </tr>\n",
       "  </tbody>\n",
       "</table>\n",
       "</div>"
      ],
      "text/plain": [
       "                     name       party\n",
       "year                                 \n",
       "1900     William McKinley  Republican\n",
       "1904   Theodore Roosevelt  Republican\n",
       "1908  William Howard Taft  Republican\n",
       "1912       Woodrow Wilson  Democratic\n",
       "1916       Woodrow Wilson  Democratic\n",
       "1920    Warren G. Harding  Republican"
      ]
     },
     "execution_count": 67,
     "metadata": {},
     "output_type": "execute_result"
    }
   ],
   "source": [
    "Temp_df = df.set_index(\"year\")\n",
    "Temp_df.loc[1900:1920]"
   ]
  },
  {
   "cell_type": "markdown",
   "metadata": {},
   "source": [
    "### Question 9\n",
    "\n",
    "Filter the DataFrame you created in Question 7 to see how many `'Democratic'` and how many `'Republican'` presidents we have had. Use the `.count()` method to count the number of rows in each category and `print` the name of the party along with the result."
   ]
  },
  {
   "cell_type": "code",
   "execution_count": 39,
   "metadata": {},
   "outputs": [
    {
     "name": "stdout",
     "output_type": "stream",
     "text": [
      "Number of president from Democratic party:  24\n",
      "Number of president from Republic party:  25\n"
     ]
    }
   ],
   "source": [
    "print(\"Number of president from Democratic party: \", (df[df[\"party\"] == 'Democratic'][\"party\"]).count())\n",
    "\n",
    "print(\"Number of president from Republic party: \", (df[df[\"party\"] == 'Republican'][\"party\"]).count())"
   ]
  },
  {
   "cell_type": "markdown",
   "metadata": {},
   "source": [
    "### Question 10\n",
    "\n",
    "`Map` a `lambda` function onto the `'name'` column to capitalize all the president names in the DataFrame you created in Question 7. Remember to apply the `.upper()` method to capitalize the letters."
   ]
  },
  {
   "cell_type": "code",
   "execution_count": 68,
   "metadata": {},
   "outputs": [
    {
     "data": {
      "text/plain": [
       "0     GEORGE WASHINGTON\n",
       "1     GEORGE WASHINGTON\n",
       "2            JOHN ADAMS\n",
       "3      THOMAS JEFFERSON\n",
       "4      THOMAS JEFFERSON\n",
       "            ...        \n",
       "59       GEORGE W. BUSH\n",
       "60         BARACK OBAMA\n",
       "61         BARACK OBAMA\n",
       "62         DONALD TRUMP\n",
       "63            JOE BIDEN\n",
       "Name: name, Length: 64, dtype: object"
      ]
     },
     "execution_count": 68,
     "metadata": {},
     "output_type": "execute_result"
    }
   ],
   "source": [
    "df[\"name\"].apply(lambda x : x.upper())"
   ]
  }
 ],
 "metadata": {
  "kernelspec": {
   "display_name": "Python 3",
   "language": "python",
   "name": "python3"
  },
  "language_info": {
   "codemirror_mode": {
    "name": "ipython",
    "version": 3
   },
   "file_extension": ".py",
   "mimetype": "text/x-python",
   "name": "python",
   "nbconvert_exporter": "python",
   "pygments_lexer": "ipython3",
   "version": "3.8.5"
  }
 },
 "nbformat": 4,
 "nbformat_minor": 4
}
