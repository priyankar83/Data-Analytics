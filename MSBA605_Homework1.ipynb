{
 "cells": [
  {
   "cell_type": "markdown",
   "metadata": {},
   "source": [
    "# Homework Assignment 1"
   ]
  },
  {
   "cell_type": "markdown",
   "metadata": {},
   "source": [
    "### Question 1\n",
    "\n",
    "Assign the variable `a` to the number 5 and the variable `b` to the number 2. Raise `a` to the `b` power and print the result."
   ]
  },
  {
   "cell_type": "code",
   "execution_count": 1,
   "metadata": {},
   "outputs": [
    {
     "name": "stdout",
     "output_type": "stream",
     "text": [
      "Result : 25\n"
     ]
    }
   ],
   "source": [
    "a = 5\n",
    "b = 2\n",
    "\n",
    "print('Result :', a**b)"
   ]
  },
  {
   "cell_type": "markdown",
   "metadata": {},
   "source": [
    "### Question 2\n",
    "\n",
    "Write a function called `power` to raise `a` to the `b` power and test it to verify the same answer as Question 1."
   ]
  },
  {
   "cell_type": "code",
   "execution_count": 2,
   "metadata": {},
   "outputs": [
    {
     "data": {
      "text/plain": [
       "25"
      ]
     },
     "execution_count": 2,
     "metadata": {},
     "output_type": "execute_result"
    }
   ],
   "source": [
    "def power(a,b):\n",
    "    return a ** b\n",
    "\n",
    "power(5,2)"
   ]
  },
  {
   "cell_type": "markdown",
   "metadata": {},
   "source": [
    "### Question 3\n",
    "\n",
    "Turn the string below into a list and retrieve the 10th element in the list:\n",
    "\n",
    "`'THE QUICK BROWN FOX JUMPS OVER THE LAZY DOG'`"
   ]
  },
  {
   "cell_type": "code",
   "execution_count": 3,
   "metadata": {},
   "outputs": [
    {
     "data": {
      "text/plain": [
       "'B'"
      ]
     },
     "execution_count": 3,
     "metadata": {},
     "output_type": "execute_result"
    }
   ],
   "source": [
    "s = 'THE QUICK BROWN FOX JUMPS OVER THE LAZY DOG'\n",
    "x = list(s)\n",
    "x[10]"
   ]
  },
  {
   "cell_type": "markdown",
   "metadata": {},
   "source": [
    "### Question 4\n",
    "\n",
    "Our first day of class, February 18, is the 49th day of the year. Divide 49 by 365, multiply the result by 100, and then cast the resulting floating point number as an integer. What percentage of the year have we completed before our class began?"
   ]
  },
  {
   "cell_type": "code",
   "execution_count": 10,
   "metadata": {},
   "outputs": [
    {
     "name": "stdout",
     "output_type": "stream",
     "text": [
      "Percentage of the year have we completed before our class began:  13\n"
     ]
    }
   ],
   "source": [
    "out = int((49/365)*100)\n",
    "print(\"Percentage of the year have we completed before our class began: \", out)"
   ]
  },
  {
   "cell_type": "markdown",
   "metadata": {},
   "source": [
    "### Question 5\n",
    "\n",
    "Write a function called `oddoreven` using an `if`/`else` statement to determine if the number passed in the function is even or odd. Make sure the function prints `'It is even.'` if the number is even and `'It is odd.'` if the number is odd. Test your function with both an odd and an even number to ensure it works. (**Note:** The modulus operator `%` will return the remainder of a division problem; for even numbers, the result is 0.)"
   ]
  },
  {
   "cell_type": "code",
   "execution_count": 4,
   "metadata": {},
   "outputs": [
    {
     "name": "stdout",
     "output_type": "stream",
     "text": [
      "It is even\n",
      "It is odd\n"
     ]
    }
   ],
   "source": [
    "def oddoreven(x):\n",
    "    if (x%2) == 0:\n",
    "        print(\"It is even\")\n",
    "    else:\n",
    "        print(\"It is odd\")\n",
    "        \n",
    "oddoreven(4) \n",
    "oddoreven(3)"
   ]
  },
  {
   "cell_type": "markdown",
   "metadata": {},
   "source": [
    "### Question 6\n",
    "\n",
    "Create a tuple with the string `'MSBA605'` and multiply it by 5."
   ]
  },
  {
   "cell_type": "code",
   "execution_count": 2,
   "metadata": {},
   "outputs": [
    {
     "data": {
      "text/plain": [
       "'MSBA605MSBA605MSBA605MSBA605MSBA605'"
      ]
     },
     "execution_count": 2,
     "metadata": {},
     "output_type": "execute_result"
    }
   ],
   "source": [
    "temp_tuple = ('MSBA605')\n",
    "temp_tuple * 5"
   ]
  },
  {
   "cell_type": "markdown",
   "metadata": {},
   "source": [
    "### Question 7\n",
    "\n",
    "Create a list called `pres_list` containing the first five presidents of the United States in chronological order: `'Washington'`, `'Adams'`, `'Jefferson'`, `'Madison'`, `'Monroe'`. Sort the list alphabetically, then pop the third element of the list. (**Note:** Remember that Python's list indexing starts at 0!)"
   ]
  },
  {
   "cell_type": "code",
   "execution_count": 10,
   "metadata": {},
   "outputs": [
    {
     "name": "stdout",
     "output_type": "stream",
     "text": [
      "Madison\n",
      "['Adams', 'Jefferson', 'Monroe', 'Washington']\n"
     ]
    }
   ],
   "source": [
    "pres_list = ['Washington', 'Adams', 'Jefferson', 'Madison', 'Monroe']\n",
    "sorted_pres_list = sorted(pres_list)\n",
    "result = sorted_pres_list.pop(2)\n",
    "\n",
    "print(result)\n",
    "print(sorted_pres_list)"
   ]
  },
  {
   "cell_type": "markdown",
   "metadata": {},
   "source": [
    "###### Question 8\n",
    "\n",
    "Create a dict called `pres_dict` using the first five presidents' surnames as the `keys` and the first year of their administration: `1789`, `1797`, `1801`, `1809`, and `1817` as the `values`. Print the dict's keys and values to ensure that you created it correctly."
   ]
  },
  {
   "cell_type": "code",
   "execution_count": 11,
   "metadata": {},
   "outputs": [
    {
     "name": "stdout",
     "output_type": "stream",
     "text": [
      "{'Washington': 1789, 'Adams': 1797, 'Jefferson': 1801, 'Madison': 1809, 'Monroe': 1817}\n",
      "dict_keys(['Washington', 'Adams', 'Jefferson', 'Madison', 'Monroe'])\n",
      "dict_values([1789, 1797, 1801, 1809, 1817])\n"
     ]
    }
   ],
   "source": [
    "pres_dict = {'Washington' : 1789, 'Adams': 1797, 'Jefferson' : 1801, 'Madison' : 1809, 'Monroe': 1817}\n",
    "print(pres_dict)\n",
    "print(pres_dict.keys())\n",
    "print(pres_dict.values())"
   ]
  },
  {
   "cell_type": "markdown",
   "metadata": {},
   "source": [
    "### Question 9\n",
    "\n",
    "Using the dict created above, use a dict comprehension to capitalize the surnames of the presidents elected in the 1800s. (**Note:** To access the key and value of each line in the dict, use the `items()` method of the dict.)"
   ]
  },
  {
   "cell_type": "code",
   "execution_count": 17,
   "metadata": {},
   "outputs": [
    {
     "data": {
      "text/plain": [
       "{'Jefferson': 1801, 'Madison': 1809, 'Monroe': 1817}"
      ]
     },
     "execution_count": 17,
     "metadata": {},
     "output_type": "execute_result"
    }
   ],
   "source": [
    "pres_dict_cap =  {k.capitalize():v for (k,v) in pres_dict.items() if pres_dict[k] >= 1800}\n",
    "pres_dict_cap"
   ]
  },
  {
   "cell_type": "markdown",
   "metadata": {},
   "source": [
    "### Question 10\n",
    "\n",
    "Below are two sets, one of all `presidents` of the United States and one of all `veeps` (vice presidents.) Using set logic, find the names of the vice presidents who went on to become presidents."
   ]
  },
  {
   "cell_type": "code",
   "execution_count": 30,
   "metadata": {},
   "outputs": [
    {
     "name": "stdout",
     "output_type": "stream",
     "text": [
      "Vice Presidents who became Presidents: \n",
      " {'Chester A. Arthur', 'Martin Van Buren', 'Lyndon B. Johnson', 'Richard Nixon', 'John Tyler', 'Gerald Ford', 'Andrew Johnson', 'Harry S. Truman', 'Theodore Roosevelt', 'George H. W. Bush', 'Thomas Jefferson', 'Joe Biden', 'Millard Fillmore', 'John Adams', 'Calvin Coolidge'}\n"
     ]
    }
   ],
   "source": [
    "presidents = {'George Washington',  'John Adams', 'Thomas Jefferson', 'James Madison', 'James Monroe', 'John Quincy Adams', 'Andrew Jackson', 'Martin Van Buren', 'William Henry Harrison', 'John Tyler', 'James K. Polk', 'Zachary Taylor', 'Millard Fillmore', 'Franklin Pierce', 'James Buchanan', 'Abraham Lincoln', 'Andrew Johnson', 'Ulysses S. Grant', 'Rutherford B. Hayes', 'James A. Garfield', 'Chester A. Arthur', 'Grover Cleveland', 'Benjamin Harrison', 'William McKinley', 'Theodore Roosevelt', 'William Howard Taft', 'Woodrow Wilson', 'Warren G. Harding', 'Calvin Coolidge', 'Herbert Hoover', 'Franklin D. Roosevelt', 'Harry S. Truman', 'Dwight D. Eisenhower', 'John F. Kennedy', 'Lyndon B. Johnson', 'Richard Nixon', 'Gerald Ford', 'Jimmy Carter', 'Ronald Reagan', 'George H. W. Bush', 'Bill Clinton', 'George W. Bush', 'Barack Obama', 'Donald Trump', 'Joe Biden'}\n",
    "veeps = {'John Adams', 'Thomas Jefferson', 'George Clinton', 'Aaron Burr', 'Elbridge Gerry', 'Daniel D. Tompkins', 'John C. Calhoun', 'Martin Van Buren', 'Richard Mentor Johnson', 'John Tyler', 'Vacant throughout presidency', 'George M. Dallas', 'Millard Fillmore', 'William R. King', 'John C. Breckinridge', 'Hannibal Hamlin', 'Andrew Johnson', 'Schuyler Colfax', 'Henry Wilson', 'William A. Wheeler', 'Chester A. Arthur', 'Thomas A. Hendricks', 'Levi P. Morton', 'Adlai Stevenson', 'Theodore Roosevelt', 'Garret Hobart', 'Charles W. Fairbanks', 'James S. Sherman', 'Thomas R. Marshall', 'Calvin Coolidge', 'Charles G. Dawes', 'Charles Curtis', 'John Nance Garner', 'Henry A. Wallace', 'Harry S. Truman', 'Alben W. Barkley', 'Richard Nixon', 'Lyndon B. Johnson', 'Hubert Humphrey', 'Spiro Agnew', 'Gerald Ford', 'Nelson Rockefeller', 'Walter Mondale', 'George H. W. Bush', 'Dan Quayle', 'Al Gore', 'Dick Cheney', 'Joe Biden', 'Mike Pence', 'Kamala Harris'}\n",
    "\n",
    "print(\"Vice Presidents who became Presidents: \\n\", presidents & veeps)"
   ]
  },
  {
   "cell_type": "code",
   "execution_count": null,
   "metadata": {},
   "outputs": [],
   "source": []
  }
 ],
 "metadata": {
  "kernelspec": {
   "display_name": "Python 3",
   "language": "python",
   "name": "python3"
  },
  "language_info": {
   "codemirror_mode": {
    "name": "ipython",
    "version": 3
   },
   "file_extension": ".py",
   "mimetype": "text/x-python",
   "name": "python",
   "nbconvert_exporter": "python",
   "pygments_lexer": "ipython3",
   "version": "3.8.5"
  }
 },
 "nbformat": 4,
 "nbformat_minor": 4
}
